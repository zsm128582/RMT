{
 "cells": [
  {
   "cell_type": "code",
   "execution_count": 2,
   "id": "707725eb",
   "metadata": {},
   "outputs": [],
   "source": [
    "import torch\n",
    "from einops import rearrange"
   ]
  },
  {
   "cell_type": "code",
   "execution_count": 3,
   "id": "bf0f222d",
   "metadata": {},
   "outputs": [],
   "source": [
    "# [100] \n",
    "tensor_seq = torch.arange(0, 100)  # 第一个参数是起始值（包含），第二个参数是结束值（不包含）\n"
   ]
  },
  {
   "cell_type": "code",
   "execution_count": 4,
   "id": "cd2513bc",
   "metadata": {},
   "outputs": [
    {
     "data": {
      "text/plain": [
       "torch.Size([25, 4])"
      ]
     },
     "execution_count": 4,
     "metadata": {},
     "output_type": "execute_result"
    }
   ],
   "source": [
    "\n",
    "tensor_seq = rearrange(tensor_seq , '( p2 wn ) -> p2 wn' ,p2 = 25)\n",
    "tensor_seq.shape"
   ]
  },
  {
   "cell_type": "code",
   "execution_count": 5,
   "id": "cc20b71a",
   "metadata": {},
   "outputs": [
    {
     "data": {
      "text/plain": [
       "torch.Size([25, 2, 2])"
      ]
     },
     "execution_count": 5,
     "metadata": {},
     "output_type": "execute_result"
    }
   ],
   "source": [
    "tensor_seq = rearrange(tensor_seq , 'p2 (h w)  -> p2 h w',h = 2)\n",
    "tensor_seq.shape"
   ]
  },
  {
   "cell_type": "code",
   "execution_count": 6,
   "id": "448fee02",
   "metadata": {},
   "outputs": [
    {
     "data": {
      "text/plain": [
       "torch.Size([10, 10])"
      ]
     },
     "execution_count": 6,
     "metadata": {},
     "output_type": "execute_result"
    }
   ],
   "source": [
    "tensor_seq = rearrange(tensor_seq , '(j i) h w -> (j h) (i w)' , j = 5)\n",
    "tensor_seq.shape"
   ]
  },
  {
   "cell_type": "code",
   "execution_count": 7,
   "id": "f3969f87",
   "metadata": {},
   "outputs": [
    {
     "data": {
      "text/plain": [
       "tensor([[ 0,  1,  4,  5,  8,  9, 12, 13, 16, 17],\n",
       "        [ 2,  3,  6,  7, 10, 11, 14, 15, 18, 19],\n",
       "        [20, 21, 24, 25, 28, 29, 32, 33, 36, 37],\n",
       "        [22, 23, 26, 27, 30, 31, 34, 35, 38, 39],\n",
       "        [40, 41, 44, 45, 48, 49, 52, 53, 56, 57],\n",
       "        [42, 43, 46, 47, 50, 51, 54, 55, 58, 59],\n",
       "        [60, 61, 64, 65, 68, 69, 72, 73, 76, 77],\n",
       "        [62, 63, 66, 67, 70, 71, 74, 75, 78, 79],\n",
       "        [80, 81, 84, 85, 88, 89, 92, 93, 96, 97],\n",
       "        [82, 83, 86, 87, 90, 91, 94, 95, 98, 99]])"
      ]
     },
     "execution_count": 7,
     "metadata": {},
     "output_type": "execute_result"
    }
   ],
   "source": [
    "tensor_seq"
   ]
  },
  {
   "cell_type": "code",
   "execution_count": 10,
   "id": "5179d57a",
   "metadata": {},
   "outputs": [
    {
     "data": {
      "text/plain": [
       "tensor([[True, True, True, True, True, True, True],\n",
       "        [True, True, True, True, True, True, True],\n",
       "        [True, True, True, True, True, True, True],\n",
       "        [True, True, True, True, True, True, True],\n",
       "        [True, True, True, True, True, True, True],\n",
       "        [True, True, True, True, True, True, True],\n",
       "        [True, True, True, True, True, True, True],\n",
       "        [True, True, True, True, True, True, True],\n",
       "        [True, True, True, True, True, True, True],\n",
       "        [True, True, True, True, True, True, True],\n",
       "        [True, True, True, True, True, True, True],\n",
       "        [True, True, True, True, True, True, True],\n",
       "        [True, True, True, True, True, True, True],\n",
       "        [True, True, True, True, True, True, True],\n",
       "        [True, True, True, True, True, True, True],\n",
       "        [True, True, True, True, True, True, True],\n",
       "        [True, True, True, True, True, True, True],\n",
       "        [True, True, True, True, True, True, True],\n",
       "        [True, True, True, True, True, True, True],\n",
       "        [True, True, True, True, True, True, True],\n",
       "        [True, True, True, True, True, True, True],\n",
       "        [True, True, True, True, True, True, True],\n",
       "        [True, True, True, True, True, True, True],\n",
       "        [True, True, True, True, True, True, True],\n",
       "        [True, True, True, True, True, True, True]])"
      ]
     },
     "execution_count": 10,
     "metadata": {},
     "output_type": "execute_result"
    }
   ],
   "source": [
    "import math\n",
    "win_mask = torch.ones(( 25 , math.ceil(25 / 4) ),dtype=torch.bool )\n",
    "win_mask"
   ]
  }
 ],
 "metadata": {
  "kernelspec": {
   "display_name": "base",
   "language": "python",
   "name": "python3"
  },
  "language_info": {
   "codemirror_mode": {
    "name": "ipython",
    "version": 3
   },
   "file_extension": ".py",
   "mimetype": "text/x-python",
   "name": "python",
   "nbconvert_exporter": "python",
   "pygments_lexer": "ipython3",
   "version": "3.13.5"
  }
 },
 "nbformat": 4,
 "nbformat_minor": 5
}
