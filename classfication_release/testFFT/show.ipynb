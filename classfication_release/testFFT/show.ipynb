{
 "cells": [
  {
   "cell_type": "code",
   "execution_count": null,
   "metadata": {},
   "outputs": [],
   "source": []
  },
  {
   "cell_type": "code",
   "execution_count": null,
   "metadata": {},
   "outputs": [
    {
     "data": {
      "application/vnd.jupyter.widget-view+json": {
       "model_id": "95f069f59faa4463bdc3cab32941b31f",
       "version_major": 2,
       "version_minor": 0
      },
      "text/plain": [
       "interactive(children=(IntSlider(value=0, description='Batch', max=63), IntSlider(value=0, description='Head', …"
      ]
     },
     "metadata": {},
     "output_type": "display_data"
    },
    {
     "data": {
      "text/plain": [
       "<function __main__.plot_spectrum(batch, head, channel)>"
      ]
     },
     "execution_count": 6,
     "metadata": {},
     "output_type": "execute_result"
    }
   ],
   "source": [
    "import numpy as np\n",
    "import matplotlib.pyplot as plt\n",
    "from ipywidgets import interact, IntSlider\n",
    "\n",
    "def showFFt(inputdata):\n",
    "    fft_reault = np.fft.fft2(inputdata , axes=(2,3))\n",
    "    # 获取频谱的幅度 (可选)\n",
    "    fft_magnitude = np.abs(fft_reault)\n",
    "    fft_magnitude_shifted = np.fft.fftshift(fft_magnitude, axes=(2, 3))\n",
    "\n",
    "    # 如果需要频谱的相位\n",
    "    fft_phase = np.angle(fft_reault)\n",
    "\n",
    "\n",
    "    plt.imshow(np.log(fft_magnitude_shifted[0, 0, :, :, 12] + 1), cmap='viridis')\n",
    "    plt.title(\"Centered Frequency Spectrum (Batch 0, Head 0, Channel 0)\")\n",
    "    plt.colorbar(label=\"Log Magnitude\")\n",
    "    plt.show()\n",
    "\n",
    "\n",
    "input_way=\"/home/zengshimao/code/RMT/classfication_release/testFFT/l-1b-1input.npy\"\n",
    "output_way=\"/home/zengshimao/code/RMT/classfication_release/testFFT/l-1b-1output.npy\"\n",
    "inputdata = np.load(input_way)\n",
    "outputdata = np.load(output_way)\n",
    "\n",
    "# 计算 FFT 和中心化幅度谱\n",
    "def compute_fft(data):\n",
    "    fft_result = np.fft.fft2(data, axes=(2, 3))  # 对 H, W 维度进行 2D FFT\n",
    "    fft_magnitude = np.abs(fft_result)           # 计算幅度谱\n",
    "    fft_magnitude_shifted = np.fft.fftshift(fft_magnitude, axes=(2, 3))  # 零频率移到中心\n",
    "    return fft_magnitude_shifted\n",
    "\n",
    "B,heads,H,W,C = inputdata.shape\n",
    "# 预计算 FFT 结果\n",
    "fft_before = compute_fft(inputdata)\n",
    "fft_after = compute_fft(outputdata)\n",
    "\n",
    "# 可视化函数\n",
    "def plot_spectrum(batch, head, channel):\n",
    "    # 创建画布，左右两幅子图\n",
    "    fig, axes = plt.subplots(1, 2, figsize=(12, 6))\n",
    "    \n",
    "    # 编码前频谱图\n",
    "    im_before = axes[0].imshow(np.log(fft_before[batch, head, :, :, channel] + 1), cmap='viridis')\n",
    "    axes[0].set_title(f\"before\\nBatch: {batch}, Head: {head}, Channel: {channel}\")\n",
    "    axes[0].axis('off')  # 隐藏坐标轴\n",
    "    plt.colorbar(im_before, ax=axes[0])\n",
    "    \n",
    "    # 编码后频谱图\n",
    "    im_after = axes[1].imshow(np.log(fft_after[batch, head, :, :, channel] + 1), cmap='viridis')\n",
    "    axes[1].set_title(f\"after\\nBatch: {batch}, Head: {head}, Channel: {channel}\")\n",
    "    axes[1].axis('off')  # 隐藏坐标轴\n",
    "    plt.colorbar(im_after, ax=axes[1])\n",
    "    \n",
    "    plt.tight_layout()\n",
    "    plt.show()\n",
    "\n",
    "# 添加交互式控件\n",
    "interact(plot_spectrum,\n",
    "         batch=IntSlider(min=0, max=B-1, step=1, value=0, description='Batch'),\n",
    "         head=IntSlider(min=0, max=heads-1, step=1, value=0, description='Head'),\n",
    "         channel=IntSlider(min=0, max=C-1, step=1, value=0, description='Channel'))\n",
    "\n",
    "# # 读取 .npy 文件\n",
    "# data = np.load('文件路径.npy')\n",
    "\n",
    "# # 打印数据\n",
    "# print(data)\n",
    "\n"
   ]
  }
 ],
 "metadata": {
  "kernelspec": {
   "display_name": "rmt-seg",
   "language": "python",
   "name": "python3"
  },
  "language_info": {
   "codemirror_mode": {
    "name": "ipython",
    "version": 3
   },
   "file_extension": ".py",
   "mimetype": "text/x-python",
   "name": "python",
   "nbconvert_exporter": "python",
   "pygments_lexer": "ipython3",
   "version": "3.10.9"
  }
 },
 "nbformat": 4,
 "nbformat_minor": 2
}
